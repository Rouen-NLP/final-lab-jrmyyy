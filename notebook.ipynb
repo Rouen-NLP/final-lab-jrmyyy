{
 "cells": [
  {
   "cell_type": "markdown",
   "metadata": {},
   "source": [
    "<h1 align=\"center\">\n",
    "  <br>\n",
    "  <a><img src=\"http://mastersid.univ-rouen.fr/images/logoSID.jpg\" width=\"200\"></a>\n",
    "  <br>\n",
    "Classification des documents du procès des groupes américains du tabac\n",
    "  <br>\n",
    "</h1>\n",
    "<h4 align=\"center\"> Jeremy CATELAIN</h4>\n",
    "\n",
    "## 0. Introduction\n",
    "### Contexte\n",
    "Le gouvernement américain a attaqué en justice cinq grands groupes américains du tabac pour avoir amassé d'importants bénéfices en mentant sur les dangers de la cigarette. Le cigarettiers  se sont entendus dès 1953, pour \"mener ensemble une vaste campagne de relations publiques afin de contrer les preuves de plus en plus manifestes d'un lien entre la consommation de tabac et des maladies graves\". \n",
    "\n",
    "Dans ce procès 14 millions de documents ont été collectés et numérisés. Afin de faciliter l'exploitation de ces documents par les avocats, vous êtes en charge de mettre en place une classification automatique des types de documents. \n",
    "\n",
    "Un échantillon aléatoire des documents a été collecté et des opérateurs ont classé les documents dans des répertoires correspondant aux classes de documents : lettres, rapports, notes, email, etc. Vous avez à votre disposition : \n",
    "\n",
    "- les images de documents : http://data.teklia.com/Images/Tobacco3482.tar.gz\n",
    "- le texte contenu dans les documents obtenu par OCR (reconnaissance automatique) : Tobacco3482-OCR.tar.gz  (dans ce git)\n",
    "- les classes des documents définies par des opérateurs : Tobacco3482.csv (dans ce git)\n",
    "\n",
    "### Introduction\n",
    "\n",
    "Le but de ce projet est d'étudier les données que l'on a à notre disposition et trouver un ou des modèles permettant de classifier correctement les documents. Nous commencerons tout d'abord par analyser les données puis étudier quelques modèles de classification. Pour finir, nous allons analyser les résultats. Nous verrons les modèles suivants: \n",
    "- Classifieur bayésien multinomial\n",
    "- MLP \n",
    "- Régression logistique\n",
    "- CNN & Embedding\n",
    "\n",
    "Les données initiales sont des images de divers documents. Ces dernières ont été traitées par un OCR et chaque image a été convertie en texte afin que nous puissons faire de l'analyse de textes et non d'images. Ainsi, les textes que l'on a ne sont pas toujours correctes en terme de parfaite retranscription, ce qui aura une influence sur la qualité de nos classification. \n",
    "\n",
    "### Informations\n",
    "\n",
    "- Ce notebook est un complémentaire du script python (script.py) et du rapport (rapport.md). Contrairement au code du script, le code de ce notebook n'a pas été corrigé pour suivre le style d'écriture PEP8. Il est important de noter que ce code donne les mêmes résultats que le script python même si le format n'est pas le même. Le format a été adapté pour le notebook. Les commentaires se trouvant dans ce notebook sont complémentaires aux commentaires du rapport. Ils visent davantage à commenter les résultats du code plutôt que l'analyse synthétique des résultats (cf rapport).\n",
    "\n",
    "- Le noyau à utiliser est \"env\" (fournit avec ce notebook). Le fichier requirement.txt est également joint. \n",
    "- Ce notebook doit être lu et/ou exécuter dans l'ordre. Seul le script a été adapté pour exécuter un ou plusieurs modèle à la fois.  "
   ]
  },
  {
   "cell_type": "code",
   "execution_count": 32,
   "metadata": {},
   "outputs": [],
   "source": [
    "# -*- coding: utf-8 -*-\n",
    "import numpy as np\n",
    "import glob\n",
    "import os\n",
    "import pandas as pd\n",
    "import matplotlib.pyplot as plt\n",
    "from pandas import DataFrame as df\n",
    "from collections import Counter\n",
    "from sklearn.model_selection import train_test_split\n",
    "from sklearn import preprocessing\n",
    "from IPython.core.interactiveshell import InteractiveShell\n",
    "InteractiveShell.ast_node_interactivity = \"all\"\n",
    "from sklearn.feature_extraction.text import TfidfTransformer\n",
    "from sklearn.feature_extraction.text import CountVectorizer\n",
    "from sklearn.naive_bayes import MultinomialNB\n",
    "import sklearn.model_selection  as model_selection\n",
    "from sklearn.metrics import classification_report, confusion_matrix\n",
    "from keras.layers import Dense, Embedding, Input, Dropout, MaxPooling1D, Conv1D, Flatten\n",
    "from keras.models import Model, load_model\n",
    "from keras.utils import np_utils\n",
    "from sklearn.metrics import accuracy_score\n",
    "from keras.preprocessing import text, sequence\n",
    "from keras.callbacks import ModelCheckpoint\n",
    "from sklearn.model_selection import GridSearchCV\n",
    "from sklearn.pipeline import Pipeline\n",
    "from pprint import pprint\n",
    "from time import time\n",
    "import logging\n",
    "from sklearn.neural_network import MLPClassifier\n",
    "from sklearn import linear_model\n",
    "from keras.preprocessing.text import Tokenizer"
   ]
  },
  {
   "cell_type": "markdown",
   "metadata": {},
   "source": [
    "## 1. Analyse des données \n",
    "\n",
    "Tout d'abord, nous étudions le fichier csv qui a été fourni avec les données. "
   ]
  },
  {
   "cell_type": "code",
   "execution_count": 2,
   "metadata": {},
   "outputs": [
    {
     "data": {
      "text/plain": [
       "(3482, 2)"
      ]
     },
     "execution_count": 2,
     "metadata": {},
     "output_type": "execute_result"
    },
    {
     "data": {
      "text/plain": [
       "Index(['img_path', 'label'], dtype='object')"
      ]
     },
     "execution_count": 2,
     "metadata": {},
     "output_type": "execute_result"
    },
    {
     "data": {
      "text/html": [
       "<div>\n",
       "<style scoped>\n",
       "    .dataframe tbody tr th:only-of-type {\n",
       "        vertical-align: middle;\n",
       "    }\n",
       "\n",
       "    .dataframe tbody tr th {\n",
       "        vertical-align: top;\n",
       "    }\n",
       "\n",
       "    .dataframe thead th {\n",
       "        text-align: right;\n",
       "    }\n",
       "</style>\n",
       "<table border=\"1\" class=\"dataframe\">\n",
       "  <thead>\n",
       "    <tr style=\"text-align: right;\">\n",
       "      <th></th>\n",
       "      <th>img_path</th>\n",
       "      <th>label</th>\n",
       "    </tr>\n",
       "  </thead>\n",
       "  <tbody>\n",
       "    <tr>\n",
       "      <th>count</th>\n",
       "      <td>3482</td>\n",
       "      <td>3482</td>\n",
       "    </tr>\n",
       "    <tr>\n",
       "      <th>unique</th>\n",
       "      <td>3482</td>\n",
       "      <td>10</td>\n",
       "    </tr>\n",
       "    <tr>\n",
       "      <th>top</th>\n",
       "      <td>Memo/2054927900_2054927901.jpg</td>\n",
       "      <td>Memo</td>\n",
       "    </tr>\n",
       "    <tr>\n",
       "      <th>freq</th>\n",
       "      <td>1</td>\n",
       "      <td>620</td>\n",
       "    </tr>\n",
       "  </tbody>\n",
       "</table>\n",
       "</div>"
      ],
      "text/plain": [
       "                              img_path label\n",
       "count                             3482  3482\n",
       "unique                            3482    10\n",
       "top     Memo/2054927900_2054927901.jpg  Memo\n",
       "freq                                 1   620"
      ]
     },
     "execution_count": 2,
     "metadata": {},
     "output_type": "execute_result"
    }
   ],
   "source": [
    "df_classes =  pd.read_csv('data/Tobacco3482.csv', sep = \",\") #Lecture du fichier de données. \n",
    "df_classes.shape #shape du fichier\n",
    "df_classes.columns #le tableau contient deux colonnes: \"img_path\" et \"label\"\n",
    "df_classes.describe() #summary"
   ]
  },
  {
   "cell_type": "markdown",
   "metadata": {},
   "source": [
    "Il y a 3482 données dans le fichier Tobacco3482.csv. Ce fichier contient deux colonnes. On peut compter 10 labels différents. \n",
    "\n",
    "Affichons 5 éléments pris aléatoirement dans le fichier."
   ]
  },
  {
   "cell_type": "code",
   "execution_count": 3,
   "metadata": {},
   "outputs": [
    {
     "data": {
      "text/html": [
       "<div>\n",
       "<style scoped>\n",
       "    .dataframe tbody tr th:only-of-type {\n",
       "        vertical-align: middle;\n",
       "    }\n",
       "\n",
       "    .dataframe tbody tr th {\n",
       "        vertical-align: top;\n",
       "    }\n",
       "\n",
       "    .dataframe thead th {\n",
       "        text-align: right;\n",
       "    }\n",
       "</style>\n",
       "<table border=\"1\" class=\"dataframe\">\n",
       "  <thead>\n",
       "    <tr style=\"text-align: right;\">\n",
       "      <th></th>\n",
       "      <th>img_path</th>\n",
       "      <th>label</th>\n",
       "    </tr>\n",
       "  </thead>\n",
       "  <tbody>\n",
       "    <tr>\n",
       "      <th>2260</th>\n",
       "      <td>Memo/2076900993.jpg</td>\n",
       "      <td>Memo</td>\n",
       "    </tr>\n",
       "    <tr>\n",
       "      <th>2543</th>\n",
       "      <td>News/2046117930.jpg</td>\n",
       "      <td>News</td>\n",
       "    </tr>\n",
       "    <tr>\n",
       "      <th>3193</th>\n",
       "      <td>Resume/50591446-1447.jpg</td>\n",
       "      <td>Resume</td>\n",
       "    </tr>\n",
       "    <tr>\n",
       "      <th>2026</th>\n",
       "      <td>Memo/2025851048_2025851049.jpg</td>\n",
       "      <td>Memo</td>\n",
       "    </tr>\n",
       "    <tr>\n",
       "      <th>853</th>\n",
       "      <td>Form/2024027426_7427.jpg</td>\n",
       "      <td>Form</td>\n",
       "    </tr>\n",
       "  </tbody>\n",
       "</table>\n",
       "</div>"
      ],
      "text/plain": [
       "                            img_path   label\n",
       "2260             Memo/2076900993.jpg    Memo\n",
       "2543             News/2046117930.jpg    News\n",
       "3193        Resume/50591446-1447.jpg  Resume\n",
       "2026  Memo/2025851048_2025851049.jpg    Memo\n",
       "853         Form/2024027426_7427.jpg    Form"
      ]
     },
     "execution_count": 3,
     "metadata": {},
     "output_type": "execute_result"
    }
   ],
   "source": [
    "df_classes.sample(n=5) #5 éléments du fichier"
   ]
  },
  {
   "cell_type": "markdown",
   "metadata": {},
   "source": [
    "On observe deux colonnes: le chemin d'une image ainsi que le label de cette image (nom du dossier dans lequel l'image se trouve). Ce fichier permet simplement d'obtenir le chemin et le label pour chaque document.  "
   ]
  },
  {
   "cell_type": "code",
   "execution_count": 4,
   "metadata": {},
   "outputs": [
    {
     "data": {
      "text/plain": [
       "(3482, 2)"
      ]
     },
     "execution_count": 4,
     "metadata": {},
     "output_type": "execute_result"
    }
   ],
   "source": [
    "df_classes.dropna().shape"
   ]
  },
  {
   "cell_type": "markdown",
   "metadata": {},
   "source": [
    "Il y a aucune données manquantes dans le fichier csv. "
   ]
  },
  {
   "cell_type": "markdown",
   "metadata": {},
   "source": [
    "Nous disposons des textes contenus dans les documents obtenus par OCR (reconnaissance automatique). Analysons ces fichiers."
   ]
  },
  {
   "cell_type": "code",
   "execution_count": 5,
   "metadata": {},
   "outputs": [
    {
     "name": "stdout",
     "output_type": "stream",
     "text": [
      "Nombre de documents ayant que 3 mots =  5\n",
      "Nombre de documents ayant moins de 3 mots =  51\n",
      "Pourcentage de documents retirés =  1.5\n"
     ]
    },
    {
     "data": {
      "text/html": [
       "<div>\n",
       "<style scoped>\n",
       "    .dataframe tbody tr th:only-of-type {\n",
       "        vertical-align: middle;\n",
       "    }\n",
       "\n",
       "    .dataframe tbody tr th {\n",
       "        vertical-align: top;\n",
       "    }\n",
       "\n",
       "    .dataframe thead th {\n",
       "        text-align: right;\n",
       "    }\n",
       "</style>\n",
       "<table border=\"1\" class=\"dataframe\">\n",
       "  <thead>\n",
       "    <tr style=\"text-align: right;\">\n",
       "      <th></th>\n",
       "      <th>0</th>\n",
       "    </tr>\n",
       "  </thead>\n",
       "  <tbody>\n",
       "    <tr>\n",
       "      <th>count</th>\n",
       "      <td>3431.000000</td>\n",
       "    </tr>\n",
       "    <tr>\n",
       "      <th>mean</th>\n",
       "      <td>160.910230</td>\n",
       "    </tr>\n",
       "    <tr>\n",
       "      <th>std</th>\n",
       "      <td>124.326764</td>\n",
       "    </tr>\n",
       "    <tr>\n",
       "      <th>min</th>\n",
       "      <td>3.000000</td>\n",
       "    </tr>\n",
       "    <tr>\n",
       "      <th>25%</th>\n",
       "      <td>80.000000</td>\n",
       "    </tr>\n",
       "    <tr>\n",
       "      <th>50%</th>\n",
       "      <td>138.000000</td>\n",
       "    </tr>\n",
       "    <tr>\n",
       "      <th>75%</th>\n",
       "      <td>204.000000</td>\n",
       "    </tr>\n",
       "    <tr>\n",
       "      <th>max</th>\n",
       "      <td>1213.000000</td>\n",
       "    </tr>\n",
       "  </tbody>\n",
       "</table>\n",
       "</div>"
      ],
      "text/plain": [
       "                 0\n",
       "count  3431.000000\n",
       "mean    160.910230\n",
       "std     124.326764\n",
       "min       3.000000\n",
       "25%      80.000000\n",
       "50%     138.000000\n",
       "75%     204.000000\n",
       "max    1213.000000"
      ]
     },
     "execution_count": 5,
     "metadata": {},
     "output_type": "execute_result"
    }
   ],
   "source": [
    "x = []\n",
    "y= []\n",
    "nb_zeros = 0\n",
    "nb_words = []\n",
    "keys = df_classes[\"label\"] #tous les labels\n",
    "dict_nbwords = dict(zip(keys, [0]*len(keys)))\n",
    "for i in os.listdir('./data/Tobacco3482-OCR'): #sous-dossiers\n",
    "        files=glob.glob('./data/Tobacco3482-OCR/'+i+'/*.txt') #fichiers dans le sous-dossier\n",
    "        for file in files:\n",
    "            f=open(file, 'r')\n",
    "            text = f.read() #le texte\n",
    "            c = len(Counter(text.split())) #nombre de mots\n",
    "            if c>=3: #si il y a au moins trois mots dans le documents\n",
    "                x.append(text)  #le texte\n",
    "                nb_words.append(c) #nombre de mots par documents\n",
    "                dict_nbwords[i] = (c + dict_nbwords[i]) / 2\n",
    "                y.append(i) #nom du sous-dossier (=label)\n",
    "            else: \n",
    "                nb_zeros+=1\n",
    "                \n",
    "nb_words_array = np.array(nb_words) \n",
    "df_nb_words = df(nb_words_array)\n",
    "index = np.where(nb_words_array == nb_words_array.min())\n",
    "print(\"Nombre de documents ayant que 3 mots = \", len(index[0]))\n",
    "print(\"Nombre de documents ayant moins de 3 mots = \", nb_zeros)\n",
    "print(\"Pourcentage de documents retirés = \", np.round(100*(nb_zeros)/3482,1))\n",
    "df_nb_words.describe()"
   ]
  },
  {
   "cell_type": "markdown",
   "metadata": {},
   "source": [
    "Nous disposons de 3482 documents. On constate qu'en moyenne, un document a 160 mots différents. Cependant la variance est grande (124). Il est intéressant de regarder alors la médiane qui est de 138. Nous avons retiré seulement 1.5% des documents correspondant aux documents ayant au plus deux mots. On a donc décidé de garder tous les documents ayant au moins trois mots. Ce choix peut être justifié par le fait que deux mots ne suffisent pas pour classer un document. De plus, après avoir regardé ces documents, on constate que les deux seuls mots qu'ils ont, sont ininterprétables (il y a même des documents n'ayant aucun mot). \n",
    "\n",
    "Nous disposons maintenant de 3431 fichiers textes. Visualisons la répartition des différents labels sur l'ensemble de nos documents ainsi que la répartition approximative du nombre de mots par document."
   ]
  },
  {
   "cell_type": "code",
   "execution_count": 6,
   "metadata": {},
   "outputs": [
    {
     "data": {
      "image/png": "[encoded data removed]",
      "text/plain": [
       "<Figure size 1080x360 with 2 Axes>"
      ]
     },
     "metadata": {
      "needs_background": "light"
     },
     "output_type": "display_data"
    },
    {
     "data": {
      "image/png": "[encoded data removed]",
      "text/plain": [
       "<Figure size 432x288 with 1 Axes>"
      ]
     },
     "metadata": {
      "needs_background": "light"
     },
     "output_type": "display_data"
    }
   ],
   "source": [
    "fig,(ax1,ax2) = plt.subplots(1,2,figsize=(15,5))\n",
    "\n",
    "c = Counter(y)\n",
    "ax1.barh(list(c.keys()), list(c.values()))\n",
    "ax1.set_title(\"Répartition des labels\");\n",
    "\n",
    "c = Counter(nb_words)\n",
    "ax2.bar(list(c.keys()), list(c.values()))\n",
    "ax2.set_title(\"Répartition des nombres de mots par documents\");\n",
    "ax2.set_xlabel('Nombres de mots');\n",
    "ax2.set_ylabel('Nombres de documents');\n",
    "\n",
    "plt.show()\n",
    "\n",
    "plt.barh(list(dict_nbwords.keys()), list(dict_nbwords.values()));\n",
    "plt.title(\"Répartition du nombre de mots moyen par documents par label\");"
   ]
  },
  {
   "cell_type": "markdown",
   "metadata": {},
   "source": [
    "Les trois labels les plus représentés sont Email, Letter et Memo. Les labels Resume, News et Note sont ceux qui sont les moins présents. Au regard des valeurs des occurrences, on peut dire que les labels sont plutôt bien partagés dans les données (non présence de sur-représentation). En ce qui concerne le nombre de mots par documents, on remarque que la plupart des documents ont entre 100 et 200 mots. Seuls quelques documents ont un nombre de mots supérieures à 200. On remarque que le nombre moyen de mots par documents ne différent pas considérablement entre les documents de labels différents. Seuls les documents News ont un nombre moyen deux fois plus élevés que les autres. On a donc plus d'informations pour les documents de ce label. Et en général, on a relativement le même quantité d'informations pour chaque label (car l'ordre de grandeur n'est pas très différent selon les labels (entre 50 et 100)). \n",
    "\n",
    "Nous avons mis dans un tableau tous les textes OCR. Ayant peu de données (<1 M d'exemples), nous sommes dans un cas classique de machine learning. On découpe alors nos données de la manière suivante: \n",
    "- 60% pour l'ensemble d'apprentissage.\n",
    "- 20% pour l'ensemble de tests. \n",
    "- 20% pour l'ensemble de validation. \n",
    "\n",
    "Nous allons découper nos données comme décrit ci-dessus et vérifier qu'ils suivent bien la même distribution par rapport aux classes. "
   ]
  },
  {
   "cell_type": "code",
   "execution_count": 7,
   "metadata": {},
   "outputs": [
    {
     "data": {
      "image/png": "[encoded data removed]",
      "text/plain": [
       "<Figure size 1224x360 with 2 Axes>"
      ]
     },
     "metadata": {
      "needs_background": "light"
     },
     "output_type": "display_data"
    }
   ],
   "source": [
    "x_train,x_test,y_train,y_test = train_test_split(x,y, test_size=0.4, random_state=1)\n",
    "\n",
    "fig,(ax1,ax2) = plt.subplots(1,2,figsize=(17,5))\n",
    "\n",
    "c = Counter(y_train)\n",
    "ax1.barh(list(c.keys()), list(c.values()))\n",
    "ax1.set_title(\"Répartition des labels train-test\");\n",
    "c = Counter(y_test)\n",
    "ax1.barh(list(c.keys()), list(c.values()))\n",
    "ax1.legend([\"Train\", \"Test\"]);\n",
    "\n",
    "x_test,x_val,y_test,y_val = train_test_split(x_test,y_test, test_size=0.5, random_state=1)\n",
    "c = Counter(y_test)\n",
    "ax2.barh(list(c.keys()), list(c.values()))\n",
    "ax2.set_title(\"Répartition des labels test-val\");\n",
    "c = Counter(y_val)\n",
    "ax2.barh(list(c.keys()), list(c.values()))\n",
    "ax2.legend([\"Test\", \"Val\"]);"
   ]
  },
  {
   "cell_type": "markdown",
   "metadata": {},
   "source": [
    "Les données d'apprentissage, de validation et de tests suivent relativement bien la même répartion par rapport aux labels. "
   ]
  },
  {
   "cell_type": "markdown",
   "metadata": {},
   "source": [
    "## 2. Classifieur bayésien multinomial\n",
    "\n",
    "Après avoir analyser nos données, nous allons, à présent, les classifier avec différentes méthodes.\n",
    "\n",
    "Premièrement, nous allons utiliser la représentation TF-IDF pour former un Classifieur bayésien multinomial. Ce classifieur a pour but de maximiser la classification à partir des probabilités jointes (cad occurrence simultanée d'un mot dans un document et de la classe de ce document).\n",
    "\n",
    "Nous utilisons d'abord CountVectorizer qui encode le texte en utilisant les fréquences des mots. Cependant, les mots très fréquents et figurant dans tous les documents auront un poids important alors qu'ils ne sont pas discriminants. On utilise alors la méthode TF-IDF qui prend en compte le nombre de documents dans lesquels un mot donné apparaît. Un mot qui apparaît dans de nombreux documents aura maintenant un poids moins important. "
   ]
  },
  {
   "cell_type": "code",
   "execution_count": 8,
   "metadata": {},
   "outputs": [
    {
     "data": {
      "text/plain": [
       "CountVectorizer(analyzer='word', binary=False, decode_error='strict',\n",
       "        dtype=<class 'numpy.int64'>, encoding='utf-8', input='content',\n",
       "        lowercase=True, max_df=1.0, max_features=None, min_df=1,\n",
       "        ngram_range=(1, 1), preprocessor=None, stop_words=None,\n",
       "        strip_accents=None, token_pattern='(?u)\\\\b\\\\w\\\\w+\\\\b',\n",
       "        tokenizer=None, vocabulary=None)"
      ]
     },
     "execution_count": 8,
     "metadata": {},
     "output_type": "execute_result"
    },
    {
     "name": "stdout",
     "output_type": "stream",
     "text": [
      "Taille du vocabulaire:  57855\n"
     ]
    }
   ],
   "source": [
    "vectorizer = CountVectorizer() #on utilise l'ensemble des mots (pas de max_features pour l'instant)\n",
    "vectorizer.fit(x_train) #apprendre le vocabulaire à partir des documents.\n",
    "print(\"Taille du vocabulaire: \",len(vectorizer.vocabulary_))"
   ]
  },
  {
   "cell_type": "code",
   "execution_count": 9,
   "metadata": {},
   "outputs": [
    {
     "name": "stdout",
     "output_type": "stream",
     "text": [
      "Train:  (2058, 57855)\n",
      "Validation:  (687, 57855)\n",
      "Test:  (686, 57855)\n"
     ]
    }
   ],
   "source": [
    "x_train_counts = vectorizer.transform(x_train) #encode chaque document en vecteur.\n",
    "x_val_counts = vectorizer.transform(x_val) #encode chaque document en vecteur.\n",
    "x_test_counts = vectorizer.transform(x_test) #encode chaque document en vecteur.\n",
    "print(\"Train: \", x_train_counts.shape)\n",
    "print(\"Validation: \",x_val_counts.shape)\n",
    "print(\"Test: \",x_test_counts.shape)"
   ]
  },
  {
   "cell_type": "markdown",
   "metadata": {},
   "source": [
    "Nous avons construit des matrices de termes-documents avec un vocabulaire de taille 57 855."
   ]
  },
  {
   "cell_type": "code",
   "execution_count": 10,
   "metadata": {},
   "outputs": [],
   "source": [
    "#le TfidfTransformer est appliqué après le CountVectorizer\n",
    "tf_transformer = TfidfTransformer()\n",
    "#transforme la matrice en une représentation tf-idf\n",
    "x_train_tf = tf_transformer.fit_transform(x_train_counts) \n",
    "x_val_tf= tf_transformer.fit_transform(x_val_counts)\n",
    "x_test_tf= tf_transformer.fit_transform(x_test_counts)"
   ]
  },
  {
   "cell_type": "markdown",
   "metadata": {},
   "source": [
    "Ayant maintenant obtenu les caractéristiques des documents, nous pouvons construire un Classifieur bayésien multinomial pour essayer de prédire la classe d'un document."
   ]
  },
  {
   "cell_type": "code",
   "execution_count": 11,
   "metadata": {},
   "outputs": [
    {
     "data": {
      "text/plain": [
       "MultinomialNB(alpha=1.0, class_prior=None, fit_prior=True)"
      ]
     },
     "execution_count": 11,
     "metadata": {},
     "output_type": "execute_result"
    }
   ],
   "source": [
    "clf = MultinomialNB()\n",
    "clf.fit(x_train_tf,y_train) #apprentissage"
   ]
  },
  {
   "cell_type": "markdown",
   "metadata": {},
   "source": [
    "Nous allons maintenant évaluer notre modèle sur l'ensemble de validation."
   ]
  },
  {
   "cell_type": "code",
   "execution_count": 12,
   "metadata": {},
   "outputs": [
    {
     "name": "stdout",
     "output_type": "stream",
     "text": [
      "Score du modèle:  0.5036390101892285\n",
      "Moyenne du score du modèle:  0.4646525512516364\n",
      "Variance du score du modèle:  0.041892738900109125\n"
     ]
    }
   ],
   "source": [
    "score = clf.score(x_val_tf,y_val)\n",
    "print(\"Score du modèle: \", score)\n",
    "\n",
    "cv = model_selection.cross_val_score(clf, x_val_tf, y_val, cv=10)\n",
    "moy = np.mean(cv)\n",
    "var = np.std(cv)\n",
    "print(\"Moyenne du score du modèle: \", moy)\n",
    "print(\"Variance du score du modèle: \", var)"
   ]
  },
  {
   "cell_type": "markdown",
   "metadata": {},
   "source": [
    "Après une validation croisée sur l'ensemble de validation avec k=10, on trouve que le score du modèle est d'environ 50%, ce qui est relativement faible. La classification est bonne dans moins d'un cas sur 2. Cependant, le score est plus grand que si la classification se faisait aléatoirement (>1/10)."
   ]
  },
  {
   "cell_type": "markdown",
   "metadata": {},
   "source": [
    "### Analyse des erreurs\n",
    "\n",
    "Le taux d'erreur de classification donne une évaluation de la performance pour toutes les classes. Cependant, les classes ne sont pas identiquement distribuées. Pour avoir une meilleure idée de la performance du classifieur, nous allons utiliser les métriques suivantes: \n",
    "- *metrics.classification_report* qui fournit une analyse détaillée par classe: précision (parmi tous les exemples classés dans la classe X, combien appartiennent réellement à la classe X) et le rappel (parmi tous les exemples appartenant à la classe X, combien sont classés dans la classe X) et le F-Score qui correspond à la moyenne harmonique pondérée de la précision et du rappel.\n",
    "- *metrics.confusion_matrix* qui donnent les confusions entre les classes.\n",
    "\n",
    "Nous utilisons l'ensemble test pour étudier les erreurs du modèle."
   ]
  },
  {
   "cell_type": "code",
   "execution_count": 13,
   "metadata": {},
   "outputs": [
    {
     "name": "stdout",
     "output_type": "stream",
     "text": [
      "               precision    recall  f1-score   support\n",
      "\n",
      "Advertisement       1.00      0.10      0.18        40\n",
      "        Email       0.97      0.89      0.93       131\n",
      "         Form       0.68      0.43      0.53        84\n",
      "       Letter       0.35      0.83      0.49       109\n",
      "         Memo       0.43      0.83      0.56       128\n",
      "         News       1.00      0.03      0.05        40\n",
      "         Note       0.00      0.00      0.00        28\n",
      "       Report       0.00      0.00      0.00        49\n",
      "       Resume       0.00      0.00      0.00        20\n",
      "   Scientific       0.00      0.00      0.00        57\n",
      "\n",
      "    micro avg       0.51      0.51      0.51       686\n",
      "    macro avg       0.44      0.31      0.27       686\n",
      " weighted avg       0.52      0.51      0.44       686\n",
      "\n"
     ]
    },
    {
     "name": "stderr",
     "output_type": "stream",
     "text": [
      "/home/jcatelain/Bureau/TA/env/lib/python3.6/site-packages/sklearn/metrics/classification.py:1143: UndefinedMetricWarning: Precision and F-score are ill-defined and being set to 0.0 in labels with no predicted samples.\n",
      "  'precision', 'predicted', average, warn_for)\n"
     ]
    }
   ],
   "source": [
    "# Rapport de classification\n",
    "y_pred = clf.predict(x_test_tf)\n",
    "print(classification_report(y_test, y_pred))"
   ]
  },
  {
   "cell_type": "markdown",
   "metadata": {},
   "source": [
    "Les  métriques calculées ne sont pas très bonnes dans l'ensemble. Seulement trois labels ont une précision de plus de 90% (Email, Advertissement et News (même 100% pour les deux derniers)). 4 labels ont une précision de 0% ce qui témoigne du mauvais apprentissage de notre modèle. Nous avons donc un cas de sur-apprentissage. On peut faire les mêmes conclusions pour les métriques Rappel et F1-score. Notre modèle ne classe donc pas bien de nouvelles données. \n",
    "\n",
    "Le résultat de macro average est inférieur à celui de micro pour les 3 métriques, donc les documents appartenant aux labels les moins présents dans la base de données sont mal classées, alors qu'ils sont correctement classées pour ceux apparaissant le plus.\n",
    "\n",
    "Calculons la matrice de confusion."
   ]
  },
  {
   "cell_type": "code",
   "execution_count": 14,
   "metadata": {},
   "outputs": [
    {
     "name": "stdout",
     "output_type": "stream",
     "text": [
      "Matrice de confusion: \n",
      " [[  4   1   2  13  20   0   0   0   0   0]\n",
      " [  0 116   0   8   7   0   0   0   0   0]\n",
      " [  0   1  36  12  35   0   0   0   0   0]\n",
      " [  0   0   0  90  19   0   0   0   0   0]\n",
      " [  0   0   0  22 106   0   0   0   0   0]\n",
      " [  0   0   4  30   5   1   0   0   0   0]\n",
      " [  0   1   5   9  13   0   0   0   0   0]\n",
      " [  0   0   1  32  16   0   0   0   0   0]\n",
      " [  0   0   0  20   0   0   0   0   0   0]\n",
      " [  0   0   5  24  28   0   0   0   0   0]]\n",
      "Matrice de confusion normalisé (en %): \n",
      " [[10  0  2 11 15  0  0  0  0  0]\n",
      " [ 0 88  0  7  5  0  0  0  0  0]\n",
      " [ 0  0 42 11 27  0  0  0  0  0]\n",
      " [ 0  0  0 82 14  0  0  0  0  0]\n",
      " [ 0  0  0 20 82  0  0  0  0  0]\n",
      " [ 0  0  4 27  3  2  0  0  0  0]\n",
      " [ 0  0  5  8 10  0  0  0  0  0]\n",
      " [ 0  0  1 29 12  0  0  0  0  0]\n",
      " [ 0  0  0 18  0  0  0  0  0  0]\n",
      " [ 0  0  5 22 21  0  0  0  0  0]]\n"
     ]
    }
   ],
   "source": [
    "# Matrice de confusion\n",
    "matrice_confusion = confusion_matrix(y_test, y_pred)\n",
    "print(\"Matrice de confusion: \\n\",matrice_confusion)\n",
    "\n",
    "#normaliser la matrice de confusion\n",
    "matrice_confusion = matrice_confusion / matrice_confusion.astype(np.float).sum(axis=1)\n",
    "matrice_confusion = np.floor(matrice_confusion*100)\n",
    "print(\"Matrice de confusion normalisé (en %): \\n\",matrice_confusion.astype(int))"
   ]
  },
  {
   "cell_type": "markdown",
   "metadata": {},
   "source": [
    "On constate les mêmes résultats avec la matrice de confusion. Cette dernière n'étant pas diagonale, le classifieur n'est donc pas très bon.\n",
    "\n",
    "En conclusion, notre modèle ne fonctionne pas très bien malgré un score de 50%. Nous allons donc chercher à l'améliorer en optimisant les hyperparamètres. "
   ]
  },
  {
   "cell_type": "markdown",
   "metadata": {},
   "source": [
    "### Optimisation des hyperparamètres\n",
    "\n",
    "Nous allons optimiser les paramètres de la classification en effectuant une recherche sur grille à l'aide de GridSearchCV. Voici les différents paramètres que l'on va traiter: \n",
    "- alpha, le paramètre de lissage pour le classifieur  bayésien. \n",
    "- max_features, le nombre maximal de termes les plus fréquents à prendre en compte\n",
    "- max_df, le seuil à partir duquel on ignore les termes (ceux qui apparaissent dans plus de max_df% des documents).\n",
    "- utilisation de la répresentation idf ou non. \n",
    "- définition de ngram pour le CountVectorizer of TfIDF transformer (unigramme, bigramme..). "
   ]
  },
  {
   "cell_type": "code",
   "execution_count": 15,
   "metadata": {
    "scrolled": true
   },
   "outputs": [
    {
     "name": "stdout",
     "output_type": "stream",
     "text": [
      "Performing grid search...\n",
      "Pipeline: ['vect', 'tfidf', 'clf']\n",
      "Paramètres:\n",
      "{'clf__alpha': (1, 0.5, 0.1, 0.01, 0.001),\n",
      " 'tfidf__use_idf': (True, False),\n",
      " 'vect__max_df': (0.3, 0.4, 0.5, 0.7, 0.8),\n",
      " 'vect__max_features': (1000, 1500, 2000, 2500),\n",
      " 'vect__ngram_range': ((1, 1), (1, 2))}\n",
      "Fitting 3 folds for each of 400 candidates, totalling 1200 fits\n"
     ]
    },
    {
     "name": "stderr",
     "output_type": "stream",
     "text": [
      "[Parallel(n_jobs=-1)]: Using backend LokyBackend with 4 concurrent workers.\n",
      "[Parallel(n_jobs=-1)]: Done  33 tasks      | elapsed:   12.2s\n",
      "[Parallel(n_jobs=-1)]: Done 154 tasks      | elapsed:   55.5s\n",
      "[Parallel(n_jobs=-1)]: Done 357 tasks      | elapsed:  2.1min\n",
      "[Parallel(n_jobs=-1)]: Done 640 tasks      | elapsed:  3.8min\n",
      "[Parallel(n_jobs=-1)]: Done 1005 tasks      | elapsed:  6.1min\n",
      "[Parallel(n_jobs=-1)]: Done 1200 out of 1200 | elapsed:  7.3min finished\n"
     ]
    },
    {
     "data": {
      "text/plain": [
       "GridSearchCV(cv=3, error_score='raise-deprecating',\n",
       "       estimator=Pipeline(memory=None,\n",
       "     steps=[('vect', CountVectorizer(analyzer='word', binary=False, decode_error='strict',\n",
       "        dtype=<class 'numpy.int64'>, encoding='utf-8', input='content',\n",
       "        lowercase=True, max_df=1.0, max_features=None, min_df=1,\n",
       "        ngram_range=(1, 1), preprocessor=None, stop_words=None,\n",
       "        strip...inear_tf=False, use_idf=True)), ('clf', MultinomialNB(alpha=1.0, class_prior=None, fit_prior=True))]),\n",
       "       fit_params=None, iid='warn', n_jobs=-1,\n",
       "       param_grid={'vect__max_df': (0.3, 0.4, 0.5, 0.7, 0.8), 'vect__max_features': (1000, 1500, 2000, 2500), 'tfidf__use_idf': (True, False), 'vect__ngram_range': ((1, 1), (1, 2)), 'clf__alpha': (1, 0.5, 0.1, 0.01, 0.001)},\n",
       "       pre_dispatch='2*n_jobs', refit=True, return_train_score='warn',\n",
       "       scoring=None, verbose=2)"
      ]
     },
     "execution_count": 15,
     "metadata": {},
     "output_type": "execute_result"
    },
    {
     "name": "stdout",
     "output_type": "stream",
     "text": [
      "fait en 437.779s\n",
      "\n"
     ]
    }
   ],
   "source": [
    "# affichage des logs\n",
    "logging.basicConfig(level=logging.INFO,\n",
    "                    format='%(asctime)s %(levelname)s %(message)s')\n",
    "\n",
    "\n",
    "pipeline = Pipeline([\n",
    "    ('vect', CountVectorizer()),\n",
    "    ('tfidf', TfidfTransformer()),\n",
    "    ('clf', MultinomialNB()),\n",
    "])\n",
    "\n",
    "\n",
    "parameters = {\n",
    "    'vect__max_df': (0.3, 0.4, 0.5, 0.7, 0.8),\n",
    "    'vect__max_features' : (1000, 1500, 2000, 2500),\n",
    "    'tfidf__use_idf': (True, False),\n",
    "    'vect__ngram_range': ((1, 1), (1, 2)), # unigramme ou bigramme\n",
    "    'clf__alpha': (1, 0.5, 0.1, 0.01, 0.001)\n",
    "}\n",
    "\n",
    "\n",
    "grid_search = GridSearchCV(pipeline, parameters, n_jobs=-1, verbose=2, cv=3)\n",
    "print(\"Performing grid search...\")\n",
    "print(\"Pipeline:\", [name for name, _ in pipeline.steps])\n",
    "print(\"Paramètres:\")\n",
    "pprint(parameters)\n",
    "t0 = time()\n",
    "grid_search.fit(x_train, y_train)\n",
    "print(\"fait en %0.3fs\" % (time() - t0))\n",
    "print()"
   ]
  },
  {
   "cell_type": "code",
   "execution_count": 16,
   "metadata": {},
   "outputs": [
    {
     "name": "stdout",
     "output_type": "stream",
     "text": [
      "Meilleur score: 0.737\n",
      "Meilleur paramètres:\n",
      "\tclf__alpha: 0.1\n",
      "\ttfidf__use_idf: False\n",
      "\tvect__max_df: 0.4\n",
      "\tvect__max_features: 1000\n",
      "\tvect__ngram_range: (1, 2)\n"
     ]
    }
   ],
   "source": [
    "print(\"Meilleur score: %0.3f\" % grid_search.best_score_)\n",
    "print(\"Meilleur paramètres:\")\n",
    "best_estimator = grid_search.best_estimator_\n",
    "best_parameters = best_estimator.get_params()\n",
    "for param_name in sorted(parameters.keys()):\n",
    "    print(\"\\t%s: %r\" % (param_name, best_parameters[param_name])) "
   ]
  },
  {
   "cell_type": "markdown",
   "metadata": {},
   "source": [
    "Après avoir faire une recherche des meilleurs paramètres, on trouve un meilleur modèle avec un score de 0.72. Ce nouveau modèle n'utilise pas la représentation idf et ignore les termes apparaissant dans plus 55% des documents. Les bigrammes sont utilisés. \n",
    "\n",
    "Evaluons à présent notre nouveau modèle sur l'ensemble de validation."
   ]
  },
  {
   "cell_type": "code",
   "execution_count": 17,
   "metadata": {},
   "outputs": [
    {
     "name": "stdout",
     "output_type": "stream",
     "text": [
      "Score du modèle:  0.7088791848617176\n",
      "Moyenne du score du modèle:  0.7028665339528963\n",
      "Variance du score du modèle:  0.04886320575790256\n"
     ]
    }
   ],
   "source": [
    "score = best_estimator.score(x_val,y_val)\n",
    "print(\"Score du modèle: \", score)\n",
    "\n",
    "cv = model_selection.cross_val_score(best_estimator, x_val, y_val, cv=10)\n",
    "moy = np.mean(cv)\n",
    "var = np.std(cv)\n",
    "print(\"Moyenne du score du modèle: \", moy)\n",
    "print(\"Variance du score du modèle: \", var)"
   ]
  },
  {
   "cell_type": "markdown",
   "metadata": {},
   "source": [
    "Le score est très proche du score trouvé avec l'ensemble d'apprentissage (73%). En moyenne avec la validation-croisée, un score de 68% est trouvé, ce qui est plutôt correct. \n",
    "\n",
    "Etudions les erreurs du modèle avec l'ensemble test."
   ]
  },
  {
   "cell_type": "code",
   "execution_count": 18,
   "metadata": {},
   "outputs": [
    {
     "name": "stdout",
     "output_type": "stream",
     "text": [
      "               precision    recall  f1-score   support\n",
      "\n",
      "Advertisement       0.73      0.68      0.70        40\n",
      "        Email       0.94      0.95      0.95       131\n",
      "         Form       0.74      0.79      0.76        84\n",
      "       Letter       0.63      0.77      0.69       109\n",
      "         Memo       0.70      0.71      0.71       128\n",
      "         News       0.68      0.75      0.71        40\n",
      "         Note       0.53      0.32      0.40        28\n",
      "       Report       0.55      0.37      0.44        49\n",
      "       Resume       0.95      1.00      0.98        20\n",
      "   Scientific       0.73      0.61      0.67        57\n",
      "\n",
      "    micro avg       0.74      0.74      0.74       686\n",
      "    macro avg       0.72      0.69      0.70       686\n",
      " weighted avg       0.73      0.74      0.73       686\n",
      "\n"
     ]
    }
   ],
   "source": [
    "# Rapport de classification\n",
    "y_pred =  best_estimator.predict(x_test)\n",
    "print(classification_report(y_test, y_pred))"
   ]
  },
  {
   "cell_type": "markdown",
   "metadata": {},
   "source": [
    "Les résultats sont beaucoup mieux. On retrouve le même score qu'avec les données d'apprentissage. En moyenne, le rappel, la précésion et le f1-score sont de 73%. Lesrésultatsde macro et de micro average pour les 3 métriques sont plutôt similaires donc le système prédit bien tous les labels, peu importe leur répartition dans la base de données."
   ]
  },
  {
   "cell_type": "code",
   "execution_count": 19,
   "metadata": {},
   "outputs": [
    {
     "name": "stdout",
     "output_type": "stream",
     "text": [
      "Matrice de confusion: \n",
      " [[ 27   2   3   4   2   1   1   0   0   0]\n",
      " [  0 125   0   4   2   0   0   0   0   0]\n",
      " [  2   1  66   5   6   0   3   1   0   0]\n",
      " [  0   0   2  84  14   1   0   6   0   2]\n",
      " [  0   4   2  19  91   1   2   5   0   4]\n",
      " [  3   0   2   0   1  30   1   2   0   1]\n",
      " [  3   1   2   7   5   0   9   0   1   0]\n",
      " [  1   0   0   8   6  10   0  18   0   6]\n",
      " [  0   0   0   0   0   0   0   0  20   0]\n",
      " [  1   0  12   3   3   1   1   1   0  35]]\n",
      "Matrice de confusion normalisé (en %): \n",
      " [[ 67   1   3   3   1   2   3   0   0   0]\n",
      " [  0  95   0   3   1   0   0   0   0   0]\n",
      " [  5   0  78   4   4   0  10   2   0   0]\n",
      " [  0   0   2  77  10   2   0  12   0   3]\n",
      " [  0   3   2  17  71   2   7  10   0   7]\n",
      " [  7   0   2   0   0  75   3   4   0   1]\n",
      " [  7   0   2   6   3   0  32   0   5   0]\n",
      " [  2   0   0   7   4  25   0  36   0  10]\n",
      " [  0   0   0   0   0   0   0   0 100   0]\n",
      " [  2   0  14   2   2   2   3   2   0  61]]\n"
     ]
    }
   ],
   "source": [
    "# Matrice de confusion\n",
    "matrice_confusion = confusion_matrix(y_test, y_pred)\n",
    "print(\"Matrice de confusion: \\n\",matrice_confusion)\n",
    "\n",
    "#normaliser la matrice de confusion\n",
    "matrice_confusion = matrice_confusion / matrice_confusion.astype(np.float).sum(axis=1)\n",
    "matrice_confusion = np.floor(matrice_confusion*100)\n",
    "print(\"Matrice de confusion normalisé (en %): \\n\",matrice_confusion.astype(int))"
   ]
  },
  {
   "cell_type": "markdown",
   "metadata": {},
   "source": [
    "On constate les mêmes résultats avec la matrice de confusion. Cette dernière est plutôt diagonale, le classifieur est donc relativement bon.\n",
    "\n",
    "En conclusion, nous avons trouvé un meilleur modèle grâce à l'optimisation des hyperparamètres. En effet, le score a été augmenté de plus de 20 points."
   ]
  },
  {
   "cell_type": "markdown",
   "metadata": {},
   "source": [
    "##  3. Classification avec un MLP\n",
    "\n",
    "Nous allons utilisé un autre type de modèle: celui des réseaux de neurones. Ces derniers peuvent être formés pour apprendre à la fois la représentation vectorielle des mots (au lieu de tf-idf) et la façon de classer les documents. "
   ]
  },
  {
   "cell_type": "code",
   "execution_count": 42,
   "metadata": {},
   "outputs": [
    {
     "data": {
      "text/plain": [
       "CountVectorizer(analyzer='word', binary=False, decode_error='strict',\n",
       "        dtype=<class 'numpy.int64'>, encoding='utf-8', input='content',\n",
       "        lowercase=True, max_df=0.4, max_features=1000, min_df=1,\n",
       "        ngram_range=(1, 2), preprocessor=None, stop_words=None,\n",
       "        strip_accents=None, token_pattern='(?u)\\\\b\\\\w\\\\w+\\\\b',\n",
       "        tokenizer=None, vocabulary=None)"
      ]
     },
     "execution_count": 42,
     "metadata": {},
     "output_type": "execute_result"
    }
   ],
   "source": [
    "x_train,x_test,y_train,y_test = train_test_split(x,y, test_size=0.4, random_state=1)\n",
    "x_test,x_val,y_test,y_val = train_test_split(x_test,y_test, test_size=0.5, random_state=1)\n",
    "\n",
    "vectorizer = CountVectorizer(max_features=best_parameters[\"vect__max_features\"], max_df=best_parameters[\"vect__max_df\"], ngram_range=best_parameters[\"vect__ngram_range\"]) #on réutilise les meilleurs paramètres\n",
    "vectorizer.fit(x_train) \n",
    "\n",
    "x_train_counts = vectorizer.transform(x_train) \n",
    "x_val_counts = vectorizer.transform(x_val) \n",
    "x_test_counts = vectorizer.transform(x_test)"
   ]
  },
  {
   "cell_type": "markdown",
   "metadata": {},
   "source": [
    "Nous allons tout d'abord utiliser un Perceptron multicouches avec le sklearn.neural_network.MLPClassifier. Après avoir testé différentes valeurs pour les paramètres suivants: \n",
    "- le nombre de couches et le nombre de neurones par couches\n",
    "- le nombre d'itérations\n",
    "- alpha, paramètre de régularisation\n",
    "- fonction d'activation\n",
    "\n",
    "le meilleur modèle trouvé est le suivant:"
   ]
  },
  {
   "cell_type": "code",
   "execution_count": 53,
   "metadata": {},
   "outputs": [
    {
     "name": "stdout",
     "output_type": "stream",
     "text": [
      "Iteration 1, loss = 1.05549440\n",
      "Iteration 2, loss = 0.33497034\n",
      "Iteration 3, loss = 0.17652233\n",
      "Iteration 4, loss = 0.10359152\n",
      "Iteration 5, loss = 0.07480610\n",
      "Iteration 6, loss = 0.05526966\n",
      "Iteration 7, loss = 0.04362564\n",
      "Iteration 8, loss = 0.03677205\n",
      "Iteration 9, loss = 0.03214060\n",
      "Iteration 10, loss = 0.02747560\n",
      "Iteration 11, loss = 0.02523430\n",
      "Iteration 12, loss = 0.02376967\n",
      "Iteration 13, loss = 0.02130671\n",
      "Iteration 14, loss = 0.02045178\n",
      "Iteration 15, loss = 0.02017911\n",
      "Iteration 16, loss = 0.01856318\n",
      "Iteration 17, loss = 0.01754102\n",
      "Iteration 18, loss = 0.01737920\n",
      "Iteration 19, loss = 0.01685487\n",
      "Iteration 20, loss = 0.01598886\n"
     ]
    },
    {
     "name": "stderr",
     "output_type": "stream",
     "text": [
      "/home/jcatelain/Bureau/TA/env/lib/python3.6/site-packages/sklearn/neural_network/multilayer_perceptron.py:562: ConvergenceWarning: Stochastic Optimizer: Maximum iterations (20) reached and the optimization hasn't converged yet.\n",
      "  % self.max_iter, ConvergenceWarning)\n"
     ]
    },
    {
     "data": {
      "text/plain": [
       "MLPClassifier(activation='relu', alpha=0.0001, batch_size=10, beta_1=0.9,\n",
       "       beta_2=0.999, early_stopping=False, epsilon=1e-08,\n",
       "       hidden_layer_sizes=(300,), learning_rate='constant',\n",
       "       learning_rate_init=0.001, max_iter=20, momentum=0.9,\n",
       "       n_iter_no_change=10, nesterovs_momentum=True, power_t=0.5,\n",
       "       random_state=None, shuffle=True, solver='adam', tol=0.0001,\n",
       "       validation_fraction=0.1, verbose=1, warm_start=False)"
      ]
     },
     "execution_count": 53,
     "metadata": {},
     "output_type": "execute_result"
    }
   ],
   "source": [
    "mlp = MLPClassifier(activation=\"relu\",hidden_layer_sizes=(300,), max_iter=20, solver='adam', batch_size=10, verbose=1)\n",
    "\n",
    "mlp.fit(x_train_counts, y_train)"
   ]
  },
  {
   "cell_type": "markdown",
   "metadata": {},
   "source": [
    "Nous avons donc pris un MLP avec une couche de 300 neurones et utilisé la fonction d'activation \"relu\" ainsi que l'optimiseur \"adam\" (rmsprop + momentum) avec un batch de taille 10 et un paramètre de régularisation valant 0.0001. \n",
    "\n",
    "Au bout de 20 itérations, le coût est de seulement 0.01. Evaluons à présent notre modèle sur l'ensemble de validation."
   ]
  },
  {
   "cell_type": "code",
   "execution_count": 54,
   "metadata": {},
   "outputs": [
    {
     "name": "stdout",
     "output_type": "stream",
     "text": [
      "Score du modèle:  0.7787481804949054\n"
     ]
    }
   ],
   "source": [
    "score = mlp.score(x_val_counts,y_val)\n",
    "print(\"Score du modèle: \", score)"
   ]
  },
  {
   "cell_type": "markdown",
   "metadata": {},
   "source": [
    "Le score est très bon (78%). Il est bien meilleur que les précédents modèles. Etudions les erreurs du modèle avec l'ensemble test."
   ]
  },
  {
   "cell_type": "code",
   "execution_count": 23,
   "metadata": {},
   "outputs": [
    {
     "name": "stdout",
     "output_type": "stream",
     "text": [
      "               precision    recall  f1-score   support\n",
      "\n",
      "Advertisement       0.71      0.75      0.73        40\n",
      "        Email       0.93      0.97      0.95       131\n",
      "         Form       0.82      0.86      0.84        84\n",
      "       Letter       0.73      0.81      0.77       109\n",
      "         Memo       0.84      0.68      0.75       128\n",
      "         News       0.81      0.75      0.78        40\n",
      "         Note       0.51      0.68      0.58        28\n",
      "       Report       0.53      0.51      0.52        49\n",
      "       Resume       1.00      1.00      1.00        20\n",
      "   Scientific       0.61      0.58      0.59        57\n",
      "\n",
      "    micro avg       0.77      0.77      0.77       686\n",
      "    macro avg       0.75      0.76      0.75       686\n",
      " weighted avg       0.78      0.77      0.77       686\n",
      "\n",
      "Matrice de confusion normalisé (en %): \n",
      " [[ 75   0   2   0   0   0  21   0   0   1]\n",
      " [  0  96   0   2   0   0   3   0   0   0]\n",
      " [  5   0  85   3   1   0  14   0   0   0]\n",
      " [  2   2   1  80   7   2   0   8   0   1]\n",
      " [  5   3   4  15  67   0  10  12   0   8]\n",
      " [  5   0   0   0   0  75   0   6   0   7]\n",
      " [  5   0   0   1   2   0  67   0   0   1]\n",
      " [  5   0   2   4   0  15   0  51   0  15]\n",
      " [  0   0   0   0   0   0   0   0 100   0]\n",
      " [  2   0   8   0   1   0  14  18   0  57]]\n"
     ]
    }
   ],
   "source": [
    "# Rapport de classification\n",
    "y_pred =  mlp.predict(x_test_counts)\n",
    "print(classification_report(y_test, y_pred))\n",
    "\n",
    "# Matrice de confusion\n",
    "matrice_confusion = confusion_matrix(y_test, y_pred)\n",
    "#normaliser la matrice de confusion\n",
    "matrice_confusion = matrice_confusion / matrice_confusion.astype(np.float).sum(axis=1)\n",
    "matrice_confusion = np.floor(matrice_confusion*100)\n",
    "print(\"Matrice de confusion normalisé (en %): \\n\",matrice_confusion.astype(int))"
   ]
  },
  {
   "cell_type": "markdown",
   "metadata": {},
   "source": [
    "Les valeurs des précisions sont très bonnes. Le modèle prédit bien tous les labels (la précision est légèrement plus faible pour le label Note). En moyenne, le rappel, la précision et le f1-score sont de 76%, ce qui est meilleur que les précédents modèles. Les résultats de macro et de micro average pour les 3 métriques sont plutôt similaires donc le système prédit bien tous les labels, peu importe leur répartition dans la base de données. \n",
    "\n",
    "On constate les mêmes résultats avec la matrice de confusion. Cette dernière est plutôt diagonale, le classifieur est donc relativement bon (et meilleur que les précedents modèles). "
   ]
  },
  {
   "cell_type": "markdown",
   "metadata": {},
   "source": [
    "## 4. Classification avec régression logistique\n",
    "Nous allons maintenant étudier la méthode de régression logistique (régression + fonction logistique) qui diffère légèrement du Classifieur multinomial bayésien. En effet, celui-ci a pour but de maximiser la classification à partir des probabilités conditionnelles (et non jointes)."
   ]
  },
  {
   "cell_type": "code",
   "execution_count": 33,
   "metadata": {},
   "outputs": [
    {
     "data": {
      "text/plain": [
       "CountVectorizer(analyzer='word', binary=False, decode_error='strict',\n",
       "        dtype=<class 'numpy.int64'>, encoding='utf-8', input='content',\n",
       "        lowercase=True, max_df=0.4, max_features=1000, min_df=1,\n",
       "        ngram_range=(1, 2), preprocessor=None, stop_words=None,\n",
       "        strip_accents=None, token_pattern='(?u)\\\\b\\\\w\\\\w+\\\\b',\n",
       "        tokenizer=None, vocabulary=None)"
      ]
     },
     "execution_count": 33,
     "metadata": {},
     "output_type": "execute_result"
    },
    {
     "data": {
      "text/plain": [
       "LogisticRegression(C=1.0, class_weight=None, dual=False, fit_intercept=True,\n",
       "          intercept_scaling=1, max_iter=100, multi_class='warn',\n",
       "          n_jobs=None, penalty='l2', random_state=None, solver='warn',\n",
       "          tol=0.0001, verbose=0, warm_start=False)"
      ]
     },
     "execution_count": 33,
     "metadata": {},
     "output_type": "execute_result"
    }
   ],
   "source": [
    "x_train,x_test,y_train,y_test = train_test_split(x,y, test_size=0.4, random_state=1)\n",
    "x_test,x_val,y_test,y_val = train_test_split(x_test,y_test, test_size=0.5, random_state=1)\n",
    "\n",
    "vectorizer = CountVectorizer(max_features=best_parameters[\"vect__max_features\"], max_df=best_parameters[\"vect__max_df\"], ngram_range=best_parameters[\"vect__ngram_range\"]) #on réutilise les meilleurs paramètres\n",
    "vectorizer.fit(x_train) \n",
    "\n",
    "x_train_counts = vectorizer.transform(x_train) \n",
    "x_val_counts = vectorizer.transform(x_val) \n",
    "x_test_counts = vectorizer.transform(x_test)\n",
    "\n",
    "\n",
    "lr = linear_model.LogisticRegression()\n",
    "lr.fit(x_train_counts, y_train)"
   ]
  },
  {
   "cell_type": "markdown",
   "metadata": {},
   "source": [
    "Calculons le score du modèle sur les données d'évaluation."
   ]
  },
  {
   "cell_type": "code",
   "execution_count": 25,
   "metadata": {},
   "outputs": [
    {
     "name": "stdout",
     "output_type": "stream",
     "text": [
      "Score du modèle:  0.7583697234352256\n"
     ]
    }
   ],
   "source": [
    "score = lr.score(x_val_counts,y_val)\n",
    "print(\"Score du modèle: \", score)"
   ]
  },
  {
   "cell_type": "markdown",
   "metadata": {},
   "source": [
    "Le score est de 76%, ce qui est très bon en comparant avec les résultats précédents."
   ]
  },
  {
   "cell_type": "code",
   "execution_count": 26,
   "metadata": {},
   "outputs": [
    {
     "name": "stdout",
     "output_type": "stream",
     "text": [
      "               precision    recall  f1-score   support\n",
      "\n",
      "Advertisement       0.68      0.70      0.69        40\n",
      "        Email       0.94      0.97      0.95       131\n",
      "         Form       0.83      0.85      0.84        84\n",
      "       Letter       0.74      0.79      0.76       109\n",
      "         Memo       0.80      0.77      0.79       128\n",
      "         News       0.76      0.70      0.73        40\n",
      "         Note       0.53      0.71      0.61        28\n",
      "       Report       0.50      0.39      0.44        49\n",
      "       Resume       1.00      1.00      1.00        20\n",
      "   Scientific       0.61      0.54      0.57        57\n",
      "\n",
      "    micro avg       0.77      0.77      0.77       686\n",
      "    macro avg       0.74      0.74      0.74       686\n",
      " weighted avg       0.77      0.77      0.77       686\n",
      "\n",
      "Matrice de confusion normalisé (en %): \n",
      " [[ 70   1   2   0   0   0  21   2   0   1]\n",
      " [  0  96   0   2   0   0   3   0   0   0]\n",
      " [  7   0  84   3   0   0  14   2   0   1]\n",
      " [  2   2   0  78  10   2   0   6   0   1]\n",
      " [  2   2   2  11  77   2   7   8   0   7]\n",
      " [  2   0   0   0   0  70   7   6   0   7]\n",
      " [  2   0   1   2   1   0  71   0   0   1]\n",
      " [ 10   0   2   6   2  15   0  38   0  14]\n",
      " [  0   0   0   0   0   0   0   0 100   0]\n",
      " [  5   0   9   0   3   2  10  14   0  54]]\n"
     ]
    }
   ],
   "source": [
    "# Rapport de classification\n",
    "y_pred =  lr.predict(x_test_counts)\n",
    "print(classification_report(y_test, y_pred))\n",
    "\n",
    "# Matrice de confusion\n",
    "matrice_confusion = confusion_matrix(y_test, y_pred)\n",
    "#normaliser la matrice de confusion\n",
    "matrice_confusion = matrice_confusion / matrice_confusion.astype(np.float).sum(axis=1)\n",
    "matrice_confusion = np.floor(matrice_confusion*100)\n",
    "print(\"Matrice de confusion normalisé (en %): \\n\",matrice_confusion.astype(int))"
   ]
  },
  {
   "cell_type": "markdown",
   "metadata": {},
   "source": [
    "Les valeurs des précisions sont très bonnes. Le modèle prédit bien tous les labels (la précision est plus de 50% pour tous les labels). En moyenne, le rappel, la précision et le f1-score sont de 77%. Les résultats de macro et de micro average pour les 3 métriques sont plutôt similaires donc le système prédit bien tous les labels, peu importe leur répartition dans la base de données. On constate les mêmes résultats avec la matrice de confusion. Cette dernière est plutôt diagonale, le classifieur est donc relativement bon (et meilleur que les précedents modèles). "
   ]
  },
  {
   "cell_type": "markdown",
   "metadata": {},
   "source": [
    "## 5. Classification avec un CNN\n",
    "\n",
    "Nous allons maintenant créer un classifieur de texte avec un réseau de neurones à convolutions en utilisant un plongement de mots (word embedddings). On utilise un réseau à convolutions avec une grille d'une dimension car nos données sont des séquences. Ce type de réseau part du principe que la détection de feature est important pour la classficiation."
   ]
  },
  {
   "cell_type": "code",
   "execution_count": 34,
   "metadata": {},
   "outputs": [],
   "source": [
    "\n",
    "def get_train_test(train_raw_text, test_raw_text):\n",
    "    \n",
    "    tokenizer = text.Tokenizer(num_words=MAX_FEATURES)\n",
    "\n",
    "    tokenizer.fit_on_texts(list(train_raw_text))\n",
    "    train_tokenized = tokenizer.texts_to_sequences(train_raw_text)\n",
    "    test_tokenized = tokenizer.texts_to_sequences(test_raw_text)\n",
    "    return sequence.pad_sequences(train_tokenized, maxlen=MAX_TEXT_LENGTH), \\\n",
    "           sequence.pad_sequences(test_tokenized, maxlen=MAX_TEXT_LENGTH)\n",
    "\n",
    "def get_model():\n",
    "\n",
    "    inputs = Input(shape=(MAX_TEXT_LENGTH,))\n",
    "    model = Embedding(MAX_FEATURES, EMBED_SIZE, input_length=MAX_TEXT_LENGTH)(inputs)\n",
    "    model = Dropout(0.5)(model)\n",
    "    model = Conv1D(NUM_FILTERS, 5, padding='same', activation='relu')(model)\n",
    "    model = MaxPooling1D(pool_size=30)(model)\n",
    "    model = Flatten()(model)\n",
    "    model = Dense(n_out, activation=\"softmax\")(model)\n",
    "    model = Model(inputs=inputs, outputs=model)\n",
    "    \n",
    "    model.compile(loss='categorical_crossentropy', optimizer='adam', metrics=['accuracy'])\n",
    "    model.summary()\n",
    "    return model"
   ]
  },
  {
   "cell_type": "markdown",
   "metadata": {},
   "source": [
    "Choississons les paramètres du modèles: \n",
    "- la taille du vocabulaire\n",
    "- la longueur maximale des textes\n",
    "- la taille de la couche Embedding\n",
    "- le nombre de filtres pour le CNN\n",
    "- la taille du batch\n",
    "\n",
    "Après plusieurs tests, les paramètres amenant à un meilleur score sont les suivants: "
   ]
  },
  {
   "cell_type": "code",
   "execution_count": 35,
   "metadata": {},
   "outputs": [],
   "source": [
    "x_train,x_test,y_train,y_test = train_test_split(x,y, test_size=0.4, random_state=1)\n",
    "\n",
    "# Model parameters\n",
    "MAX_FEATURES = 2000 #taille du vocabulaire\n",
    "MAX_TEXT_LENGTH = 1213 #nombre max approximative de mots trouvé durant l'analyse\n",
    "EMBED_SIZE  = 300 \n",
    "BATCH_SIZE = 16\n",
    "NUM_FILTERS = 125\n",
    "EPOCHS = 10\n",
    "VALIDATION_SPLIT = 0.1"
   ]
  },
  {
   "cell_type": "markdown",
   "metadata": {},
   "source": [
    "On transforme les textes en séquence et on effectue un padding. "
   ]
  },
  {
   "cell_type": "code",
   "execution_count": 36,
   "metadata": {},
   "outputs": [
    {
     "data": {
      "text/plain": [
       "LabelEncoder()"
      ]
     },
     "execution_count": 36,
     "metadata": {},
     "output_type": "execute_result"
    },
    {
     "name": "stdout",
     "output_type": "stream",
     "text": [
      "2058 1373\n"
     ]
    }
   ],
   "source": [
    "# Get the list of different classes\n",
    "CLASSES_LIST = np.unique(y_train)\n",
    "n_out = len(CLASSES_LIST)\n",
    "\n",
    "# Convert clas string to index\n",
    "le = preprocessing.LabelEncoder()\n",
    "le.fit(CLASSES_LIST)\n",
    "y_train = le.transform(y_train) \n",
    "y_test = le.transform(y_test) \n",
    "train_y_cat = np_utils.to_categorical(y_train, n_out)\n",
    "\n",
    "# get the textual data in the correct format for NN\n",
    "x_vec_train, x_vec_test = get_train_test(x_train, x_test)\n",
    "print(len(x_vec_train), len(x_vec_test))"
   ]
  },
  {
   "cell_type": "markdown",
   "metadata": {},
   "source": [
    "Nous avons préparer les données. On peut maintenant entraîner notre modèle. "
   ]
  },
  {
   "cell_type": "code",
   "execution_count": 37,
   "metadata": {},
   "outputs": [
    {
     "name": "stdout",
     "output_type": "stream",
     "text": [
      "_________________________________________________________________\n",
      "Layer (type)                 Output Shape              Param #   \n",
      "=================================================================\n",
      "input_1 (InputLayer)         (None, 1213)              0         \n",
      "_________________________________________________________________\n",
      "embedding_1 (Embedding)      (None, 1213, 300)         600000    \n",
      "_________________________________________________________________\n",
      "dropout_1 (Dropout)          (None, 1213, 300)         0         \n",
      "_________________________________________________________________\n",
      "conv1d_1 (Conv1D)            (None, 1213, 125)         187625    \n",
      "_________________________________________________________________\n",
      "max_pooling1d_1 (MaxPooling1 (None, 40, 125)           0         \n",
      "_________________________________________________________________\n",
      "flatten_1 (Flatten)          (None, 5000)              0         \n",
      "_________________________________________________________________\n",
      "dense_1 (Dense)              (None, 10)                50010     \n",
      "=================================================================\n",
      "Total params: 837,635\n",
      "Trainable params: 837,635\n",
      "Non-trainable params: 0\n",
      "_________________________________________________________________\n",
      "Train on 1852 samples, validate on 206 samples\n",
      "Epoch 1/10\n",
      "1852/1852 [==============================] - 36s 20ms/step - loss: 1.9268 - acc: 0.2878 - val_loss: 1.7416 - val_acc: 0.3641\n",
      "Epoch 2/10\n",
      "1852/1852 [==============================] - 35s 19ms/step - loss: 1.5434 - acc: 0.4433 - val_loss: 1.2447 - val_acc: 0.5680\n",
      "Epoch 3/10\n",
      "1852/1852 [==============================] - 35s 19ms/step - loss: 0.9127 - acc: 0.6868 - val_loss: 0.8718 - val_acc: 0.7330\n",
      "Epoch 4/10\n",
      "1852/1852 [==============================] - 35s 19ms/step - loss: 0.5547 - acc: 0.8207 - val_loss: 0.7878 - val_acc: 0.6990\n",
      "Epoch 5/10\n",
      "1852/1852 [==============================] - 35s 19ms/step - loss: 0.3659 - acc: 0.8877 - val_loss: 0.7939 - val_acc: 0.7476\n",
      "Epoch 6/10\n",
      "1852/1852 [==============================] - 35s 19ms/step - loss: 0.2204 - acc: 0.9476 - val_loss: 0.7769 - val_acc: 0.7476\n",
      "Epoch 7/10\n",
      "1852/1852 [==============================] - 35s 19ms/step - loss: 0.1553 - acc: 0.9633 - val_loss: 0.7935 - val_acc: 0.7476\n",
      "Epoch 8/10\n",
      "1852/1852 [==============================] - 38s 20ms/step - loss: 0.1106 - acc: 0.9741 - val_loss: 0.8271 - val_acc: 0.7524\n",
      "Epoch 9/10\n",
      "1852/1852 [==============================] - 36s 20ms/step - loss: 0.0916 - acc: 0.9789 - val_loss: 0.8422 - val_acc: 0.7621\n",
      "Epoch 10/10\n",
      "1852/1852 [==============================] - 36s 20ms/step - loss: 0.0722 - acc: 0.9806 - val_loss: 0.8894 - val_acc: 0.7573\n"
     ]
    },
    {
     "data": {
      "text/plain": [
       "<keras.callbacks.History at 0x7f91139ce320>"
      ]
     },
     "execution_count": 37,
     "metadata": {},
     "output_type": "execute_result"
    }
   ],
   "source": [
    "# define the NN topology\n",
    "model = get_model()\n",
    "\n",
    "callbacks = [ModelCheckpoint(\"weights.hdf5\", save_best_only=True, save_weights_only=True, monitor='val_acc', mode='max')]\n",
    "\n",
    "\n",
    "model.fit(x_vec_train, train_y_cat,batch_size=BATCH_SIZE, epochs=EPOCHS, verbose=1, validation_split=VALIDATION_SPLIT, callbacks=callbacks)\n",
    "\n",
    "model.save('modele.h5')  \n",
    "del model"
   ]
  },
  {
   "cell_type": "markdown",
   "metadata": {},
   "source": [
    "Après 10 itérations, le coût a légèrement diminué et la précision est de 98%, signifiant que le modèle a très bien appris les données d'apprentissage.\n",
    "\n",
    "Evaluons notre modèle sur les données tests."
   ]
  },
  {
   "cell_type": "code",
   "execution_count": 38,
   "metadata": {},
   "outputs": [
    {
     "name": "stdout",
     "output_type": "stream",
     "text": [
      "Score du modèle: 0.7428987618353969\n"
     ]
    }
   ],
   "source": [
    "model = load_model('modele.h5')\n",
    "model.load_weights('weights.hdf5')\n",
    "\n",
    "y_predicted = model.predict(x_vec_test).argmax(1)\n",
    "print(\"Score du modèle:\", accuracy_score(y_test, y_predicted))"
   ]
  },
  {
   "cell_type": "markdown",
   "metadata": {},
   "source": [
    "Le score est de 74%, ce qui est cohérent avec les résultats des autres méthodes. "
   ]
  },
  {
   "cell_type": "code",
   "execution_count": 39,
   "metadata": {},
   "outputs": [
    {
     "name": "stdout",
     "output_type": "stream",
     "text": [
      "              precision    recall  f1-score   support\n",
      "\n",
      "           0       0.60      0.52      0.55        93\n",
      "           1       0.91      0.94      0.92       250\n",
      "           2       0.73      0.73      0.73       165\n",
      "           3       0.77      0.79      0.78       223\n",
      "           4       0.83      0.83      0.83       247\n",
      "           5       0.72      0.66      0.69        77\n",
      "           6       0.49      0.51      0.50        68\n",
      "           7       0.47      0.49      0.48       107\n",
      "           8       0.98      0.96      0.97        47\n",
      "           9       0.57      0.57      0.57        96\n",
      "\n",
      "   micro avg       0.74      0.74      0.74      1373\n",
      "   macro avg       0.71      0.70      0.70      1373\n",
      "weighted avg       0.74      0.74      0.74      1373\n",
      "\n",
      "Matrice de confusion normalisé (en %): \n",
      " [[51  1  3  1  0  6 35  0  0  2]\n",
      " [ 0 93  0  3  0  0  5  1  0  0]\n",
      " [10  2 72  1  3  0  7  5  0  7]\n",
      " [ 0  0  2 78  6  1  1 18  0  4]\n",
      " [ 1  3  3  7 82  3  2  3  0  2]\n",
      " [ 8  0  1  1  1 66  0  5  0  4]\n",
      " [ 9  0  5  2  1  0 51  0  0  4]\n",
      " [ 4  0  4  5  2 10  0 48  0 17]\n",
      " [ 0  0  0  0  0  0  0  0 95  2]\n",
      " [ 0  0  5  0  2  3  1 18  2 57]]\n"
     ]
    }
   ],
   "source": [
    "# Rapport de classification\n",
    "print(classification_report(y_test, y_predicted))\n",
    "\n",
    "# Matrice de confusion\n",
    "matrice_confusion = confusion_matrix(y_test, y_predicted)\n",
    "#normaliser la matrice de confusion\n",
    "matrice_confusion = matrice_confusion / matrice_confusion.astype(np.float).sum(axis=1)\n",
    "matrice_confusion = np.floor(matrice_confusion*100)\n",
    "print(\"Matrice de confusion normalisé (en %): \\n\",matrice_confusion.astype(int))"
   ]
  },
  {
   "cell_type": "markdown",
   "metadata": {},
   "source": [
    "Les valeurs des précisions sont très bonnes. Le modèle prédit bien tous les labels (la précision est plus de 50% pour tous les labels). En moyenne, le rappel, la précision et le f1-score sont de 74%. Les résultats de macro et de micro average pour les 3 métriques sont plutôt similaires donc le système prédit bien tous les labels, peu importe leur répartition dans la base de données. On constate les mêmes résultats avec la matrice de confusion. Cette dernière est plutôt diagonale, le classifieur est donc relativement bon (et meilleur que les précedents modèles). "
   ]
  },
  {
   "cell_type": "markdown",
   "metadata": {},
   "source": [
    "## 6. Conclusion\n",
    "\n",
    "### Analyses des résultats\n",
    "Voici les scores trouvés pour les différents modèles utilisés. \n",
    "\n",
    "| Modèle      |     Weight average    |   Score |\n",
    "| ------------- |: -------------: | ---------: |\n",
    "| MultinomialNB      |        73%        |      71% |\n",
    "| MLPClassifier        |        78%        |      78% |\n",
    "| LogisticRegression      |       77%        |      76% |\n",
    "| CNN + Embedding      |        74%        |      74% |\n",
    "\n",
    "Nous pouvons donc dire que les modèles crées donnent relativement les mêmes résultats. Le meilleur modèle semble être celui de MLP. Le moins bon est celui avec le classifieur bayéssien (alors qu'il a été optimisé). La représentation TF_IDF ainsi que les probabilités jointes ne semblent donc pas être les meilleures méthodes à appliquer pour faire de la classification sur nos données, alors que les réseaux de neurones (MLP ou CNN) et la régression semble être les meilleurs méthodes.\n",
    "\n",
    "En moyenne, on peut dire que la précision d'un modèle est de 75%. En ayant créée 4 modèles, on peut voir que les précisions sont très proches même avec une optimisation. On peut donc supposer que l'on est proche du niveau de précision maximale qu'un modèle peut atteindre avec ces données. \n",
    "\n",
    "On a aussi pu remarquer que les modèles prédisent très bien certaines classes contrairement à d'autres. Pour toutes les méthodes, les meilleurs labels prédits sont Email et Resume. Les moins bien prédits sont Note et Report. Ces résultats sont intéressants: \n",
    "\n",
    "* Email est le label le plus représenté alors que Resumé est celui le moins représenté. Cependant, ils sont tous les deux les mieux prédit. Le résultat est donc dû à la qualité des textes OCR ou de la quantité d'informations dans les documents. On a pu remarqué que Resume faisait partie des documents ayant le plus de mots par documents tandis qu'il s'agit du contraire pour Email. On a donc deux cas opposés ayant la même qualité de prédiction. On en conclut que: Resume est peu représenté mais sur ce peu de documents, les textes contiennent beaucoup de mots et probablement de bonnes qualités. En ce qui concerne Email, ce label a beaucoup de documents mais chaque document contient très peu de mots. Cependant, il est probable que ces mots soient de très bonnes qualités en terme d'OCR ou d'informations. Cette analyse est plutôt logique car les emails sont des textes courts facile à traiter puisqu'il s'agit d'écritures numériques.\n",
    "\n",
    "* Note et Report sont moyennement représentés. Report a légèrement plus de documents. Cependant, Note a beaucoup de mots que Report. Leurs scores sont de 50%. Ce résultat n'est pas mauvais mais n'est pas le meilleur. Ce score est correct puisqu'il est supérieur à l a probabilité de tirer aléatoirement un label parmi les 10. On peut dire que les documents Note ont peu de mots et que ces derniers sont de mauvaises qualités en terme d'OCR ou d'informations. Il est aussi probable que les documents Report contiennent beaucoup de mots mais que très peu soient de qualités. \n",
    "\n",
    "On peut donc dire que les résultats sont biaisés par la qualité de la technique OCR mais aussi de la qualité des informations dans les documents. \n",
    "\n",
    "\n",
    "\n",
    "### Piste d'améliorations\n",
    "\n",
    "Nous avons pu voir que le modèle Perceptron Multi-Couche est le meilleur. On pourrait l'améliorer davantage en utilisant Keras avec des couches Dense et d'autres fonctions d'activation que celles proposées par sklearn.MLP. Nous ne connaissons pas d'autres modèles pour traiter ce genre de problème (classification de texte). La meilleur méthode pour améliorer nos précisions est la modification des données traitées. Il serait notamment judicieux d'essayer d'améliorer  la technique OCR utilisée. En effet, certaines images ont été très mal retranscriptes. Certaines textes sont vides ou ininterprétables.\n",
    "\n",
    "La technique OCR pourrait être par exemple un réseau de neurones à convolutions en deux dimensions (traiter les caractéristiques) associé à un réseau de neurones récurrents (pour traiter le contexte). On pourrait tester cette technique avec un modèle CTC (traitement de séquences). Par exemple, pour le projet du cours de Sequential Data Analysis, le modèle que j'ai crée (CNN+RNN avec CTC) a atteint un taux de bonne reconnaissance de mots sur des images égal à 60% et un taux de bonne reconnaissance de caractère égal à 73% (résultats sont cohérents avec ceux trouvés par les chercheurs dans ce domaine). \n",
    "\n",
    "De plus, il serait aussi nécéssaire d'avoir des données avec une meilleur répartition. Il faudrait alors avoir plus de données afin d'avoir une répartition des labels plutôt similaires dans les données.\n"
   ]
  }
 ],
 "metadata": {
  "kernelspec": {
   "display_name": "env",
   "language": "python",
   "name": "env"
  },
  "language_info": {
   "codemirror_mode": {
    "name": "ipython",
    "version": 3
   },
   "file_extension": ".py",
   "mimetype": "text/x-python",
   "name": "python",
   "nbconvert_exporter": "python",
   "pygments_lexer": "ipython3",
   "version": "3.6.7"
  }
 },
 "nbformat": 4,
 "nbformat_minor": 2
}
